{
 "cells": [
  {
   "cell_type": "markdown",
   "id": "bb73868b",
   "metadata": {},
   "source": [
    "# 模型训练演示"
   ]
  }
 ],
 "metadata": {
  "language_info": {
   "name": "python"
  }
 },
 "nbformat": 4,
 "nbformat_minor": 5
}
